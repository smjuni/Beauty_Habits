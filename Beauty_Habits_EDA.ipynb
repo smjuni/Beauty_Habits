{
 "cells": [
  {
   "cell_type": "code",
   "execution_count": 1,
   "metadata": {},
   "outputs": [],
   "source": [
    "#import dependencies\n",
    "\n",
    "import pandas as pd\n",
    "import numpy as np\n",
    "\n",
    "from pathlib import Path\n",
    "import matplotlib.pyplot as plt\n",
    "from sklearn.linear_model import LinearRegression\n"
   ]
  },
  {
   "cell_type": "code",
   "execution_count": 2,
   "metadata": {},
   "outputs": [
    {
     "data": {
      "text/html": [
       "<div>\n",
       "<style scoped>\n",
       "    .dataframe tbody tr th:only-of-type {\n",
       "        vertical-align: middle;\n",
       "    }\n",
       "\n",
       "    .dataframe tbody tr th {\n",
       "        vertical-align: top;\n",
       "    }\n",
       "\n",
       "    .dataframe thead th {\n",
       "        text-align: right;\n",
       "    }\n",
       "</style>\n",
       "<table border=\"1\" class=\"dataframe\">\n",
       "  <thead>\n",
       "    <tr style=\"text-align: right;\">\n",
       "      <th></th>\n",
       "      <th>id</th>\n",
       "      <th>brand</th>\n",
       "      <th>category</th>\n",
       "      <th>name</th>\n",
       "      <th>size</th>\n",
       "      <th>rating</th>\n",
       "      <th>number_of_reviews</th>\n",
       "      <th>love</th>\n",
       "      <th>price</th>\n",
       "      <th>value_price</th>\n",
       "      <th>...</th>\n",
       "      <th>MarketingFlags</th>\n",
       "      <th>MarketingFlags_content</th>\n",
       "      <th>options</th>\n",
       "      <th>details</th>\n",
       "      <th>how_to_use</th>\n",
       "      <th>ingredients</th>\n",
       "      <th>online_only</th>\n",
       "      <th>exclusive</th>\n",
       "      <th>limited_edition</th>\n",
       "      <th>limited_time_offer</th>\n",
       "    </tr>\n",
       "  </thead>\n",
       "  <tbody>\n",
       "    <tr>\n",
       "      <th>0</th>\n",
       "      <td>2218774</td>\n",
       "      <td>Acqua Di Parma</td>\n",
       "      <td>Fragrance</td>\n",
       "      <td>Blu Mediterraneo MINIATURE Set</td>\n",
       "      <td>5 x 0.16oz/5mL</td>\n",
       "      <td>4.0</td>\n",
       "      <td>4</td>\n",
       "      <td>3002</td>\n",
       "      <td>66.0</td>\n",
       "      <td>75.0</td>\n",
       "      <td>...</td>\n",
       "      <td>True</td>\n",
       "      <td>online only</td>\n",
       "      <td>no options</td>\n",
       "      <td>This enchanting set comes in a specially handc...</td>\n",
       "      <td>Suggested Usage:-Fragrance is intensified by t...</td>\n",
       "      <td>Arancia di Capri Eau de Toilette: Alcohol Dena...</td>\n",
       "      <td>1</td>\n",
       "      <td>0</td>\n",
       "      <td>0</td>\n",
       "      <td>0</td>\n",
       "    </tr>\n",
       "    <tr>\n",
       "      <th>1</th>\n",
       "      <td>2044816</td>\n",
       "      <td>Acqua Di Parma</td>\n",
       "      <td>Cologne</td>\n",
       "      <td>Colonia</td>\n",
       "      <td>0.7 oz/ 20 mL</td>\n",
       "      <td>4.5</td>\n",
       "      <td>76</td>\n",
       "      <td>2700</td>\n",
       "      <td>66.0</td>\n",
       "      <td>66.0</td>\n",
       "      <td>...</td>\n",
       "      <td>True</td>\n",
       "      <td>online only</td>\n",
       "      <td>- 0.7 oz/ 20 mL  Spray  - 1.7 oz/ 50 mL Eau d...</td>\n",
       "      <td>An elegant timeless scent filled with a fresh-...</td>\n",
       "      <td>no instructions</td>\n",
       "      <td>unknown</td>\n",
       "      <td>1</td>\n",
       "      <td>0</td>\n",
       "      <td>0</td>\n",
       "      <td>0</td>\n",
       "    </tr>\n",
       "    <tr>\n",
       "      <th>2</th>\n",
       "      <td>1417567</td>\n",
       "      <td>Acqua Di Parma</td>\n",
       "      <td>Perfume</td>\n",
       "      <td>Arancia di Capri</td>\n",
       "      <td>5 oz/ 148 mL</td>\n",
       "      <td>4.5</td>\n",
       "      <td>26</td>\n",
       "      <td>2600</td>\n",
       "      <td>180.0</td>\n",
       "      <td>180.0</td>\n",
       "      <td>...</td>\n",
       "      <td>True</td>\n",
       "      <td>online only</td>\n",
       "      <td>- 1oz/30mL Eau de Toilette  - 2.5 oz/ 74 mL E...</td>\n",
       "      <td>Fragrance Family: Fresh Scent Type: Fresh Citr...</td>\n",
       "      <td>no instructions</td>\n",
       "      <td>Alcohol Denat.- Water- Fragrance- Limonene- Li...</td>\n",
       "      <td>1</td>\n",
       "      <td>0</td>\n",
       "      <td>0</td>\n",
       "      <td>0</td>\n",
       "    </tr>\n",
       "    <tr>\n",
       "      <th>3</th>\n",
       "      <td>1417617</td>\n",
       "      <td>Acqua Di Parma</td>\n",
       "      <td>Perfume</td>\n",
       "      <td>Mirto di Panarea</td>\n",
       "      <td>2.5 oz/ 74 mL</td>\n",
       "      <td>4.5</td>\n",
       "      <td>23</td>\n",
       "      <td>2900</td>\n",
       "      <td>120.0</td>\n",
       "      <td>120.0</td>\n",
       "      <td>...</td>\n",
       "      <td>True</td>\n",
       "      <td>online only</td>\n",
       "      <td>- 1 oz/ 30 mL Eau de Toilette Spray - 2.5 oz/...</td>\n",
       "      <td>Panarea near Sicily is an an island suspended ...</td>\n",
       "      <td>no instructions</td>\n",
       "      <td>unknown</td>\n",
       "      <td>1</td>\n",
       "      <td>0</td>\n",
       "      <td>0</td>\n",
       "      <td>0</td>\n",
       "    </tr>\n",
       "    <tr>\n",
       "      <th>4</th>\n",
       "      <td>2218766</td>\n",
       "      <td>Acqua Di Parma</td>\n",
       "      <td>Fragrance</td>\n",
       "      <td>Colonia Miniature Set</td>\n",
       "      <td>5 x 0.16oz/5mL</td>\n",
       "      <td>3.5</td>\n",
       "      <td>2</td>\n",
       "      <td>943</td>\n",
       "      <td>72.0</td>\n",
       "      <td>80.0</td>\n",
       "      <td>...</td>\n",
       "      <td>True</td>\n",
       "      <td>online only</td>\n",
       "      <td>no options</td>\n",
       "      <td>The Colonia Miniature Set comes in an iconic A...</td>\n",
       "      <td>Suggested Usage:-Fragrance is intensified by t...</td>\n",
       "      <td>Colonia: Alcohol Denat.- Water- Fragrance- Lim...</td>\n",
       "      <td>1</td>\n",
       "      <td>0</td>\n",
       "      <td>0</td>\n",
       "      <td>0</td>\n",
       "    </tr>\n",
       "    <tr>\n",
       "      <th>...</th>\n",
       "      <td>...</td>\n",
       "      <td>...</td>\n",
       "      <td>...</td>\n",
       "      <td>...</td>\n",
       "      <td>...</td>\n",
       "      <td>...</td>\n",
       "      <td>...</td>\n",
       "      <td>...</td>\n",
       "      <td>...</td>\n",
       "      <td>...</td>\n",
       "      <td>...</td>\n",
       "      <td>...</td>\n",
       "      <td>...</td>\n",
       "      <td>...</td>\n",
       "      <td>...</td>\n",
       "      <td>...</td>\n",
       "      <td>...</td>\n",
       "      <td>...</td>\n",
       "      <td>...</td>\n",
       "      <td>...</td>\n",
       "      <td>...</td>\n",
       "    </tr>\n",
       "    <tr>\n",
       "      <th>9163</th>\n",
       "      <td>2208502</td>\n",
       "      <td>SEPHORA COLLECTION</td>\n",
       "      <td>Face Masks</td>\n",
       "      <td>The Rose Gold Mask</td>\n",
       "      <td>no size</td>\n",
       "      <td>2.0</td>\n",
       "      <td>15</td>\n",
       "      <td>6200</td>\n",
       "      <td>6.0</td>\n",
       "      <td>6.0</td>\n",
       "      <td>...</td>\n",
       "      <td>True</td>\n",
       "      <td>limited edition · exclusive</td>\n",
       "      <td>no options</td>\n",
       "      <td>What it is: A limited-edition- nurturing and h...</td>\n",
       "      <td>Suggested Usage:-Unfold the mask.-Apply the ma...</td>\n",
       "      <td>-Rose Quartz Extract: Hydrates dry skin.  Aqua...</td>\n",
       "      <td>0</td>\n",
       "      <td>1</td>\n",
       "      <td>1</td>\n",
       "      <td>0</td>\n",
       "    </tr>\n",
       "    <tr>\n",
       "      <th>9164</th>\n",
       "      <td>2298909</td>\n",
       "      <td>SEPHORA COLLECTION</td>\n",
       "      <td>Lip Sets</td>\n",
       "      <td>Give Me Some Sugar Colorful Gloss Balm Set</td>\n",
       "      <td>3 x 0.32 oz/ 9 g</td>\n",
       "      <td>0.0</td>\n",
       "      <td>0</td>\n",
       "      <td>266</td>\n",
       "      <td>15.0</td>\n",
       "      <td>27.0</td>\n",
       "      <td>...</td>\n",
       "      <td>True</td>\n",
       "      <td>exclusive</td>\n",
       "      <td>no options</td>\n",
       "      <td>What it is: A set of three bestselling Colorfu...</td>\n",
       "      <td>Suggested Usage:-Apply directly to lips using ...</td>\n",
       "      <td>Colorful Gloss Balm Wanderlust: Hydrogenated P...</td>\n",
       "      <td>0</td>\n",
       "      <td>1</td>\n",
       "      <td>0</td>\n",
       "      <td>0</td>\n",
       "    </tr>\n",
       "    <tr>\n",
       "      <th>9165</th>\n",
       "      <td>2236750</td>\n",
       "      <td>SEPHORA COLLECTION</td>\n",
       "      <td>Tinted Moisturizer</td>\n",
       "      <td>Weekend Warrior Tone Up Cream</td>\n",
       "      <td>0.946 oz/ 28 mL</td>\n",
       "      <td>0.0</td>\n",
       "      <td>0</td>\n",
       "      <td>445</td>\n",
       "      <td>16.0</td>\n",
       "      <td>16.0</td>\n",
       "      <td>...</td>\n",
       "      <td>True</td>\n",
       "      <td>exclusive</td>\n",
       "      <td>no options</td>\n",
       "      <td>What it is: A weightless complexion booster- i...</td>\n",
       "      <td>Suggested Usage:-Use this product as the last ...</td>\n",
       "      <td>Aqua (Water)- Dimethicone- Isohexadecane- Poly...</td>\n",
       "      <td>0</td>\n",
       "      <td>1</td>\n",
       "      <td>0</td>\n",
       "      <td>0</td>\n",
       "    </tr>\n",
       "    <tr>\n",
       "      <th>9166</th>\n",
       "      <td>50</td>\n",
       "      <td>SEPHORA COLLECTION</td>\n",
       "      <td>no category</td>\n",
       "      <td>Gift Card</td>\n",
       "      <td>no size</td>\n",
       "      <td>5.0</td>\n",
       "      <td>46</td>\n",
       "      <td>0</td>\n",
       "      <td>50.0</td>\n",
       "      <td>50.0</td>\n",
       "      <td>...</td>\n",
       "      <td>False</td>\n",
       "      <td>0</td>\n",
       "      <td>no options</td>\n",
       "      <td>What it is:- Available in denominations of $10...</td>\n",
       "      <td>no instructions</td>\n",
       "      <td>unknown</td>\n",
       "      <td>0</td>\n",
       "      <td>0</td>\n",
       "      <td>0</td>\n",
       "      <td>0</td>\n",
       "    </tr>\n",
       "    <tr>\n",
       "      <th>9167</th>\n",
       "      <td>304</td>\n",
       "      <td>SEPHORA COLLECTION</td>\n",
       "      <td>no category</td>\n",
       "      <td>Happy Birthday Gift Card</td>\n",
       "      <td>no size</td>\n",
       "      <td>0.0</td>\n",
       "      <td>0</td>\n",
       "      <td>0</td>\n",
       "      <td>50.0</td>\n",
       "      <td>50.0</td>\n",
       "      <td>...</td>\n",
       "      <td>False</td>\n",
       "      <td>0</td>\n",
       "      <td>no options</td>\n",
       "      <td>What it is:\\n- Available in denominations of $...</td>\n",
       "      <td>no instructions</td>\n",
       "      <td>unknown</td>\n",
       "      <td>0</td>\n",
       "      <td>0</td>\n",
       "      <td>0</td>\n",
       "      <td>0</td>\n",
       "    </tr>\n",
       "  </tbody>\n",
       "</table>\n",
       "<p>9168 rows × 21 columns</p>\n",
       "</div>"
      ],
      "text/plain": [
       "           id               brand            category  \\\n",
       "0     2218774      Acqua Di Parma           Fragrance   \n",
       "1     2044816      Acqua Di Parma             Cologne   \n",
       "2     1417567      Acqua Di Parma             Perfume   \n",
       "3     1417617      Acqua Di Parma             Perfume   \n",
       "4     2218766      Acqua Di Parma           Fragrance   \n",
       "...       ...                 ...                 ...   \n",
       "9163  2208502  SEPHORA COLLECTION          Face Masks   \n",
       "9164  2298909  SEPHORA COLLECTION            Lip Sets   \n",
       "9165  2236750  SEPHORA COLLECTION  Tinted Moisturizer   \n",
       "9166       50  SEPHORA COLLECTION         no category   \n",
       "9167      304  SEPHORA COLLECTION         no category   \n",
       "\n",
       "                                            name              size  rating  \\\n",
       "0                 Blu Mediterraneo MINIATURE Set    5 x 0.16oz/5mL     4.0   \n",
       "1                                        Colonia     0.7 oz/ 20 mL     4.5   \n",
       "2                               Arancia di Capri      5 oz/ 148 mL     4.5   \n",
       "3                               Mirto di Panarea     2.5 oz/ 74 mL     4.5   \n",
       "4                          Colonia Miniature Set    5 x 0.16oz/5mL     3.5   \n",
       "...                                          ...               ...     ...   \n",
       "9163                          The Rose Gold Mask           no size     2.0   \n",
       "9164  Give Me Some Sugar Colorful Gloss Balm Set  3 x 0.32 oz/ 9 g     0.0   \n",
       "9165               Weekend Warrior Tone Up Cream   0.946 oz/ 28 mL     0.0   \n",
       "9166                                   Gift Card           no size     5.0   \n",
       "9167                    Happy Birthday Gift Card           no size     0.0   \n",
       "\n",
       "      number_of_reviews  love  price  value_price  ... MarketingFlags  \\\n",
       "0                     4  3002   66.0         75.0  ...           True   \n",
       "1                    76  2700   66.0         66.0  ...           True   \n",
       "2                    26  2600  180.0        180.0  ...           True   \n",
       "3                    23  2900  120.0        120.0  ...           True   \n",
       "4                     2   943   72.0         80.0  ...           True   \n",
       "...                 ...   ...    ...          ...  ...            ...   \n",
       "9163                 15  6200    6.0          6.0  ...           True   \n",
       "9164                  0   266   15.0         27.0  ...           True   \n",
       "9165                  0   445   16.0         16.0  ...           True   \n",
       "9166                 46     0   50.0         50.0  ...          False   \n",
       "9167                  0     0   50.0         50.0  ...          False   \n",
       "\n",
       "           MarketingFlags_content  \\\n",
       "0                     online only   \n",
       "1                     online only   \n",
       "2                     online only   \n",
       "3                     online only   \n",
       "4                     online only   \n",
       "...                           ...   \n",
       "9163  limited edition · exclusive   \n",
       "9164                    exclusive   \n",
       "9165                    exclusive   \n",
       "9166                            0   \n",
       "9167                            0   \n",
       "\n",
       "                                                options  \\\n",
       "0                                            no options   \n",
       "1      - 0.7 oz/ 20 mL  Spray  - 1.7 oz/ 50 mL Eau d...   \n",
       "2      - 1oz/30mL Eau de Toilette  - 2.5 oz/ 74 mL E...   \n",
       "3      - 1 oz/ 30 mL Eau de Toilette Spray - 2.5 oz/...   \n",
       "4                                            no options   \n",
       "...                                                 ...   \n",
       "9163                                         no options   \n",
       "9164                                         no options   \n",
       "9165                                         no options   \n",
       "9166                                         no options   \n",
       "9167                                         no options   \n",
       "\n",
       "                                                details  \\\n",
       "0     This enchanting set comes in a specially handc...   \n",
       "1     An elegant timeless scent filled with a fresh-...   \n",
       "2     Fragrance Family: Fresh Scent Type: Fresh Citr...   \n",
       "3     Panarea near Sicily is an an island suspended ...   \n",
       "4     The Colonia Miniature Set comes in an iconic A...   \n",
       "...                                                 ...   \n",
       "9163  What it is: A limited-edition- nurturing and h...   \n",
       "9164  What it is: A set of three bestselling Colorfu...   \n",
       "9165  What it is: A weightless complexion booster- i...   \n",
       "9166  What it is:- Available in denominations of $10...   \n",
       "9167  What it is:\\n- Available in denominations of $...   \n",
       "\n",
       "                                             how_to_use  \\\n",
       "0     Suggested Usage:-Fragrance is intensified by t...   \n",
       "1                                       no instructions   \n",
       "2                                       no instructions   \n",
       "3                                       no instructions   \n",
       "4     Suggested Usage:-Fragrance is intensified by t...   \n",
       "...                                                 ...   \n",
       "9163  Suggested Usage:-Unfold the mask.-Apply the ma...   \n",
       "9164  Suggested Usage:-Apply directly to lips using ...   \n",
       "9165  Suggested Usage:-Use this product as the last ...   \n",
       "9166                                    no instructions   \n",
       "9167                                    no instructions   \n",
       "\n",
       "                                            ingredients online_only  \\\n",
       "0     Arancia di Capri Eau de Toilette: Alcohol Dena...           1   \n",
       "1                                               unknown           1   \n",
       "2     Alcohol Denat.- Water- Fragrance- Limonene- Li...           1   \n",
       "3                                               unknown           1   \n",
       "4     Colonia: Alcohol Denat.- Water- Fragrance- Lim...           1   \n",
       "...                                                 ...         ...   \n",
       "9163  -Rose Quartz Extract: Hydrates dry skin.  Aqua...           0   \n",
       "9164  Colorful Gloss Balm Wanderlust: Hydrogenated P...           0   \n",
       "9165  Aqua (Water)- Dimethicone- Isohexadecane- Poly...           0   \n",
       "9166                                            unknown           0   \n",
       "9167                                            unknown           0   \n",
       "\n",
       "      exclusive  limited_edition  limited_time_offer  \n",
       "0             0                0                   0  \n",
       "1             0                0                   0  \n",
       "2             0                0                   0  \n",
       "3             0                0                   0  \n",
       "4             0                0                   0  \n",
       "...         ...              ...                 ...  \n",
       "9163          1                1                   0  \n",
       "9164          1                0                   0  \n",
       "9165          1                0                   0  \n",
       "9166          0                0                   0  \n",
       "9167          0                0                   0  \n",
       "\n",
       "[9168 rows x 21 columns]"
      ]
     },
     "execution_count": 2,
     "metadata": {},
     "output_type": "execute_result"
    }
   ],
   "source": [
    "#read the file\n",
    "file_to_load = \"Resources/sephora_website_dataset.csv\"\n",
    "df=pd.read_csv(file_to_load)\n",
    "df"
   ]
  },
  {
   "cell_type": "code",
   "execution_count": 3,
   "metadata": {},
   "outputs": [
    {
     "data": {
      "text/html": [
       "<div>\n",
       "<style scoped>\n",
       "    .dataframe tbody tr th:only-of-type {\n",
       "        vertical-align: middle;\n",
       "    }\n",
       "\n",
       "    .dataframe tbody tr th {\n",
       "        vertical-align: top;\n",
       "    }\n",
       "\n",
       "    .dataframe thead th {\n",
       "        text-align: right;\n",
       "    }\n",
       "</style>\n",
       "<table border=\"1\" class=\"dataframe\">\n",
       "  <thead>\n",
       "    <tr style=\"text-align: right;\">\n",
       "      <th></th>\n",
       "      <th>id</th>\n",
       "      <th>rating</th>\n",
       "      <th>number_of_reviews</th>\n",
       "      <th>love</th>\n",
       "      <th>price</th>\n",
       "      <th>value_price</th>\n",
       "      <th>online_only</th>\n",
       "      <th>exclusive</th>\n",
       "      <th>limited_edition</th>\n",
       "      <th>limited_time_offer</th>\n",
       "    </tr>\n",
       "  </thead>\n",
       "  <tbody>\n",
       "    <tr>\n",
       "      <th>count</th>\n",
       "      <td>9.168000e+03</td>\n",
       "      <td>9168.000000</td>\n",
       "      <td>9168.000000</td>\n",
       "      <td>9.168000e+03</td>\n",
       "      <td>9168.000000</td>\n",
       "      <td>9168.00000</td>\n",
       "      <td>9168.000000</td>\n",
       "      <td>9168.000000</td>\n",
       "      <td>9168.000000</td>\n",
       "      <td>9168.000000</td>\n",
       "    </tr>\n",
       "    <tr>\n",
       "      <th>mean</th>\n",
       "      <td>1.962952e+06</td>\n",
       "      <td>3.990020</td>\n",
       "      <td>282.139180</td>\n",
       "      <td>1.627859e+04</td>\n",
       "      <td>50.063237</td>\n",
       "      <td>51.82359</td>\n",
       "      <td>0.234839</td>\n",
       "      <td>0.264725</td>\n",
       "      <td>0.091841</td>\n",
       "      <td>0.000327</td>\n",
       "    </tr>\n",
       "    <tr>\n",
       "      <th>std</th>\n",
       "      <td>3.859714e+05</td>\n",
       "      <td>1.007707</td>\n",
       "      <td>890.642028</td>\n",
       "      <td>4.260651e+04</td>\n",
       "      <td>47.164989</td>\n",
       "      <td>49.45902</td>\n",
       "      <td>0.423921</td>\n",
       "      <td>0.441211</td>\n",
       "      <td>0.288817</td>\n",
       "      <td>0.018087</td>\n",
       "    </tr>\n",
       "    <tr>\n",
       "      <th>min</th>\n",
       "      <td>5.000000e+01</td>\n",
       "      <td>0.000000</td>\n",
       "      <td>0.000000</td>\n",
       "      <td>0.000000e+00</td>\n",
       "      <td>2.000000</td>\n",
       "      <td>2.00000</td>\n",
       "      <td>0.000000</td>\n",
       "      <td>0.000000</td>\n",
       "      <td>0.000000</td>\n",
       "      <td>0.000000</td>\n",
       "    </tr>\n",
       "    <tr>\n",
       "      <th>25%</th>\n",
       "      <td>1.819453e+06</td>\n",
       "      <td>4.000000</td>\n",
       "      <td>10.000000</td>\n",
       "      <td>1.600000e+03</td>\n",
       "      <td>24.000000</td>\n",
       "      <td>25.00000</td>\n",
       "      <td>0.000000</td>\n",
       "      <td>0.000000</td>\n",
       "      <td>0.000000</td>\n",
       "      <td>0.000000</td>\n",
       "    </tr>\n",
       "    <tr>\n",
       "      <th>50%</th>\n",
       "      <td>2.072354e+06</td>\n",
       "      <td>4.000000</td>\n",
       "      <td>46.000000</td>\n",
       "      <td>4.800000e+03</td>\n",
       "      <td>35.000000</td>\n",
       "      <td>35.00000</td>\n",
       "      <td>0.000000</td>\n",
       "      <td>0.000000</td>\n",
       "      <td>0.000000</td>\n",
       "      <td>0.000000</td>\n",
       "    </tr>\n",
       "    <tr>\n",
       "      <th>75%</th>\n",
       "      <td>2.230591e+06</td>\n",
       "      <td>4.500000</td>\n",
       "      <td>210.000000</td>\n",
       "      <td>1.380000e+04</td>\n",
       "      <td>59.000000</td>\n",
       "      <td>60.00000</td>\n",
       "      <td>0.000000</td>\n",
       "      <td>1.000000</td>\n",
       "      <td>0.000000</td>\n",
       "      <td>0.000000</td>\n",
       "    </tr>\n",
       "    <tr>\n",
       "      <th>max</th>\n",
       "      <td>2.359685e+06</td>\n",
       "      <td>5.000000</td>\n",
       "      <td>19000.000000</td>\n",
       "      <td>1.300000e+06</td>\n",
       "      <td>549.000000</td>\n",
       "      <td>549.00000</td>\n",
       "      <td>1.000000</td>\n",
       "      <td>1.000000</td>\n",
       "      <td>1.000000</td>\n",
       "      <td>1.000000</td>\n",
       "    </tr>\n",
       "  </tbody>\n",
       "</table>\n",
       "</div>"
      ],
      "text/plain": [
       "                 id       rating  number_of_reviews          love  \\\n",
       "count  9.168000e+03  9168.000000        9168.000000  9.168000e+03   \n",
       "mean   1.962952e+06     3.990020         282.139180  1.627859e+04   \n",
       "std    3.859714e+05     1.007707         890.642028  4.260651e+04   \n",
       "min    5.000000e+01     0.000000           0.000000  0.000000e+00   \n",
       "25%    1.819453e+06     4.000000          10.000000  1.600000e+03   \n",
       "50%    2.072354e+06     4.000000          46.000000  4.800000e+03   \n",
       "75%    2.230591e+06     4.500000         210.000000  1.380000e+04   \n",
       "max    2.359685e+06     5.000000       19000.000000  1.300000e+06   \n",
       "\n",
       "             price  value_price  online_only    exclusive  limited_edition  \\\n",
       "count  9168.000000   9168.00000  9168.000000  9168.000000      9168.000000   \n",
       "mean     50.063237     51.82359     0.234839     0.264725         0.091841   \n",
       "std      47.164989     49.45902     0.423921     0.441211         0.288817   \n",
       "min       2.000000      2.00000     0.000000     0.000000         0.000000   \n",
       "25%      24.000000     25.00000     0.000000     0.000000         0.000000   \n",
       "50%      35.000000     35.00000     0.000000     0.000000         0.000000   \n",
       "75%      59.000000     60.00000     0.000000     1.000000         0.000000   \n",
       "max     549.000000    549.00000     1.000000     1.000000         1.000000   \n",
       "\n",
       "       limited_time_offer  \n",
       "count         9168.000000  \n",
       "mean             0.000327  \n",
       "std              0.018087  \n",
       "min              0.000000  \n",
       "25%              0.000000  \n",
       "50%              0.000000  \n",
       "75%              0.000000  \n",
       "max              1.000000  "
      ]
     },
     "execution_count": 3,
     "metadata": {},
     "output_type": "execute_result"
    }
   ],
   "source": [
    "#view the central tendencies of all the columns\n",
    "df.describe()"
   ]
  },
  {
   "cell_type": "code",
   "execution_count": 4,
   "metadata": {},
   "outputs": [
    {
     "data": {
      "text/plain": [
       "id                          int64\n",
       "brand                      object\n",
       "category                   object\n",
       "name                       object\n",
       "size                       object\n",
       "rating                    float64\n",
       "number_of_reviews           int64\n",
       "love                        int64\n",
       "price                     float64\n",
       "value_price               float64\n",
       "URL                        object\n",
       "MarketingFlags               bool\n",
       "MarketingFlags_content     object\n",
       "options                    object\n",
       "details                    object\n",
       "how_to_use                 object\n",
       "ingredients                object\n",
       "online_only                 int64\n",
       "exclusive                   int64\n",
       "limited_edition             int64\n",
       "limited_time_offer          int64\n",
       "dtype: object"
      ]
     },
     "execution_count": 4,
     "metadata": {},
     "output_type": "execute_result"
    }
   ],
   "source": [
    "#examine the data types\n",
    "df.dtypes"
   ]
  },
  {
   "cell_type": "code",
   "execution_count": 5,
   "metadata": {},
   "outputs": [
    {
     "data": {
      "text/plain": [
       "Index(['id', 'brand', 'category', 'name', 'size', 'rating',\n",
       "       'number_of_reviews', 'love', 'price', 'value_price', 'URL',\n",
       "       'MarketingFlags', 'MarketingFlags_content', 'options', 'details',\n",
       "       'how_to_use', 'ingredients', 'online_only', 'exclusive',\n",
       "       'limited_edition', 'limited_time_offer'],\n",
       "      dtype='object')"
      ]
     },
     "execution_count": 5,
     "metadata": {},
     "output_type": "execute_result"
    }
   ],
   "source": [
    "#examine the columns\n",
    "df.columns"
   ]
  },
  {
   "cell_type": "code",
   "execution_count": 6,
   "metadata": {},
   "outputs": [
    {
     "data": {
      "text/plain": [
       "9168"
      ]
     },
     "execution_count": 6,
     "metadata": {},
     "output_type": "execute_result"
    }
   ],
   "source": [
    "#test for granularity/primary key\n",
    "df[\"URL\"].nunique()"
   ]
  },
  {
   "cell_type": "code",
   "execution_count": 7,
   "metadata": {},
   "outputs": [
    {
     "data": {
      "text/plain": [
       "0"
      ]
     },
     "execution_count": 7,
     "metadata": {},
     "output_type": "execute_result"
    }
   ],
   "source": [
    "#any nans?\n",
    "df.isna().sum().sum()"
   ]
  },
  {
   "cell_type": "code",
   "execution_count": 8,
   "metadata": {},
   "outputs": [
    {
     "data": {
      "text/html": [
       "<div>\n",
       "<style scoped>\n",
       "    .dataframe tbody tr th:only-of-type {\n",
       "        vertical-align: middle;\n",
       "    }\n",
       "\n",
       "    .dataframe tbody tr th {\n",
       "        vertical-align: top;\n",
       "    }\n",
       "\n",
       "    .dataframe thead th {\n",
       "        text-align: right;\n",
       "    }\n",
       "</style>\n",
       "<table border=\"1\" class=\"dataframe\">\n",
       "  <thead>\n",
       "    <tr style=\"text-align: right;\">\n",
       "      <th></th>\n",
       "      <th>id</th>\n",
       "      <th>brand</th>\n",
       "      <th>category</th>\n",
       "      <th>name</th>\n",
       "      <th>size</th>\n",
       "      <th>rating</th>\n",
       "      <th>number_of_reviews</th>\n",
       "      <th>love</th>\n",
       "      <th>price</th>\n",
       "      <th>value_price</th>\n",
       "      <th>...</th>\n",
       "      <th>MarketingFlags</th>\n",
       "      <th>MarketingFlags_content</th>\n",
       "      <th>options</th>\n",
       "      <th>details</th>\n",
       "      <th>how_to_use</th>\n",
       "      <th>ingredients</th>\n",
       "      <th>online_only</th>\n",
       "      <th>exclusive</th>\n",
       "      <th>limited_edition</th>\n",
       "      <th>limited_time_offer</th>\n",
       "    </tr>\n",
       "  </thead>\n",
       "  <tbody>\n",
       "  </tbody>\n",
       "</table>\n",
       "<p>0 rows × 21 columns</p>\n",
       "</div>"
      ],
      "text/plain": [
       "Empty DataFrame\n",
       "Columns: [id, brand, category, name, size, rating, number_of_reviews, love, price, value_price, URL, MarketingFlags, MarketingFlags_content, options, details, how_to_use, ingredients, online_only, exclusive, limited_edition, limited_time_offer]\n",
       "Index: []\n",
       "\n",
       "[0 rows x 21 columns]"
      ]
     },
     "execution_count": 8,
     "metadata": {},
     "output_type": "execute_result"
    }
   ],
   "source": [
    "#any duplicates?\n",
    "duplicates=df[df.duplicated()]\n",
    "duplicates"
   ]
  },
  {
   "cell_type": "code",
   "execution_count": 9,
   "metadata": {},
   "outputs": [
    {
     "data": {
      "text/plain": [
       "1973841    2\n",
       "1164805    2\n",
       "2087047    2\n",
       "2118982    2\n",
       "1901859    2\n",
       "          ..\n",
       "2016707    1\n",
       "2340156    1\n",
       "1758465    1\n",
       "2321719    1\n",
       "2152445    1\n",
       "Name: id, Length: 9115, dtype: int64"
      ]
     },
     "execution_count": 9,
     "metadata": {},
     "output_type": "execute_result"
    }
   ],
   "source": [
    "#find duplicate ids\n",
    "#search for double company id entries\n",
    "df[\"id\"].nunique()\n",
    "df[\"id\"].value_counts()"
   ]
  },
  {
   "cell_type": "code",
   "execution_count": 10,
   "metadata": {},
   "outputs": [
    {
     "ename": "NameError",
     "evalue": "name 'duplicates_ids' is not defined",
     "output_type": "error",
     "traceback": [
      "\u001b[0;31m---------------------------------------------------------------------------\u001b[0m",
      "\u001b[0;31mNameError\u001b[0m                                 Traceback (most recent call last)",
      "\u001b[0;32m<ipython-input-10-de1c6b2d5c00>\u001b[0m in \u001b[0;36m<module>\u001b[0;34m\u001b[0m\n\u001b[1;32m      1\u001b[0m \u001b[0;31m#investigate duplicate id numbers\u001b[0m\u001b[0;34m\u001b[0m\u001b[0;34m\u001b[0m\u001b[0;34m\u001b[0m\u001b[0m\n\u001b[1;32m      2\u001b[0m \u001b[0mduplicate_ids\u001b[0m\u001b[0;34m=\u001b[0m\u001b[0mdf\u001b[0m\u001b[0;34m[\u001b[0m\u001b[0mdf\u001b[0m\u001b[0;34m[\u001b[0m\u001b[0;34m\"id\"\u001b[0m\u001b[0;34m]\u001b[0m\u001b[0;34m.\u001b[0m\u001b[0mduplicated\u001b[0m\u001b[0;34m(\u001b[0m\u001b[0;34m)\u001b[0m\u001b[0;34m]\u001b[0m\u001b[0;34m\u001b[0m\u001b[0;34m\u001b[0m\u001b[0m\n\u001b[0;32m----> 3\u001b[0;31m \u001b[0mduplicates_ids\u001b[0m\u001b[0;34m\u001b[0m\u001b[0;34m\u001b[0m\u001b[0m\n\u001b[0m",
      "\u001b[0;31mNameError\u001b[0m: name 'duplicates_ids' is not defined"
     ]
    }
   ],
   "source": [
    "#investigate duplicate id numbers\n",
    "duplicate_ids=df[df[\"id\"].duplicated()]\n",
    "duplicates_ids"
   ]
  },
  {
   "cell_type": "code",
   "execution_count": null,
   "metadata": {},
   "outputs": [],
   "source": [
    "#assess the reason for recurring ids == different scents/sizes for different products\n",
    "df.loc[df[\"id\"] == 1973841]"
   ]
  },
  {
   "cell_type": "code",
   "execution_count": null,
   "metadata": {},
   "outputs": [],
   "source": [
    "df.loc[df[\"id\"] == 1858133]"
   ]
  },
  {
   "cell_type": "code",
   "execution_count": null,
   "metadata": {},
   "outputs": [],
   "source": [
    "#evaluate quality of column data\n",
    "print(df[\"brand\"].unique())\n",
    "df[\"brand\"].nunique()"
   ]
  },
  {
   "cell_type": "code",
   "execution_count": null,
   "metadata": {},
   "outputs": [],
   "source": [
    "#evaluate quality of column data\n",
    "brand_counts=(df[\"brand\"].value_counts())\n",
    "print(brand_counts)\n",
    "brand_counts.to_list()"
   ]
  },
  {
   "cell_type": "code",
   "execution_count": null,
   "metadata": {},
   "outputs": [],
   "source": [
    "#evaluate quality of column data\n",
    "print(df[\"category\"].unique())\n",
    "print(df[\"category\"].nunique())\n",
    "df[\"category\"].value_counts()"
   ]
  },
  {
   "cell_type": "code",
   "execution_count": null,
   "metadata": {},
   "outputs": [],
   "source": [
    "#evaluate quality of column data\n",
    "print(df[\"name\"].unique())\n",
    "print(df[\"name\"].nunique())\n",
    "df[\"name\"].value_counts()"
   ]
  },
  {
   "cell_type": "code",
   "execution_count": null,
   "metadata": {},
   "outputs": [],
   "source": [
    "# gift_cards1=df.loc[df[\"name\"]==\"Gift Card\"]\n",
    "# gift_cards2 = df.loc[df[\"name\"]==\"Happy Birthday Gift Card\"]\n",
    "# gift_cards = pd.DataFrame(gift_cards1,gift_cards2)\n"
   ]
  },
  {
   "cell_type": "code",
   "execution_count": null,
   "metadata": {},
   "outputs": [],
   "source": [
    "#evaluate quality of column data\n",
    "print(df[\"size\"].unique())\n",
    "print(df[\"size\"].nunique())\n",
    "df[\"size\"].value_counts()\n"
   ]
  },
  {
   "cell_type": "code",
   "execution_count": null,
   "metadata": {},
   "outputs": [],
   "source": [
    "#evaluate quality of column data\n",
    "print(df[\"rating\"].unique())\n",
    "print(df[\"rating\"].nunique())\n",
    "df[\"rating\"].value_counts()"
   ]
  },
  {
   "cell_type": "code",
   "execution_count": null,
   "metadata": {},
   "outputs": [],
   "source": [
    "df[\"rating\"].describe()"
   ]
  },
  {
   "cell_type": "code",
   "execution_count": null,
   "metadata": {},
   "outputs": [],
   "source": [
    "good_rating = df.loc[df[\"rating\"]>= 4.5]\n",
    "good_rating"
   ]
  },
  {
   "cell_type": "code",
   "execution_count": null,
   "metadata": {},
   "outputs": [],
   "source": [
    "zero_stars_df = df.loc[df[\"rating\"]==0.0]\n",
    "zero_stars_df"
   ]
  },
  {
   "cell_type": "code",
   "execution_count": null,
   "metadata": {},
   "outputs": [],
   "source": [
    "helpful_stars_df = df.loc[df[\"rating\"] >0.0]\n",
    "helpful_stars_df.count()\n",
    "helpful_stars_df"
   ]
  },
  {
   "cell_type": "code",
   "execution_count": null,
   "metadata": {},
   "outputs": [],
   "source": [
    "#evaluate quality of column data\n",
    "print(df[\"number_of_reviews\"].nunique())"
   ]
  },
  {
   "cell_type": "code",
   "execution_count": null,
   "metadata": {},
   "outputs": [],
   "source": [
    "df[\"number_of_reviews\"].describe()"
   ]
  },
  {
   "cell_type": "code",
   "execution_count": null,
   "metadata": {},
   "outputs": [],
   "source": [
    "#which product has the most reviews\n",
    "df.loc[df[\"number_of_reviews\"]==19000]"
   ]
  },
  {
   "cell_type": "code",
   "execution_count": null,
   "metadata": {},
   "outputs": [],
   "source": [
    "#how many products have zero \"loves\"\n",
    "df.groupby(df[\"number_of_reviews\"] == 0)[\"URL\"].count()\n"
   ]
  },
  {
   "cell_type": "code",
   "execution_count": null,
   "metadata": {},
   "outputs": [],
   "source": [
    "#how many products have zero reviews? What are they? How many loves do they have?\n",
    "zero_reviews_df=df.loc[df[\"number_of_reviews\"] == 0]\n",
    "zero_reviews_df.describe()"
   ]
  },
  {
   "cell_type": "code",
   "execution_count": null,
   "metadata": {},
   "outputs": [],
   "source": [
    "#how many items with 0 reviews are online only products?\n",
    "zero_reviews_df.loc[df[\"online_only\"]==1]"
   ]
  },
  {
   "cell_type": "code",
   "execution_count": null,
   "metadata": {},
   "outputs": [],
   "source": [
    "#What brands have zero reviews?\n",
    "print(zero_reviews_df.groupby(\"brand\")[\"brand\"].count().sort_values(ascending=False))\n",
    "zero_reviews_df"
   ]
  },
  {
   "cell_type": "code",
   "execution_count": null,
   "metadata": {},
   "outputs": [],
   "source": [
    "#Create a df with brands that have one or more reviews?\n",
    "helpful_reviews_df=df.loc[df[\"number_of_reviews\"] > 0]\n",
    "helpful_reviews_df"
   ]
  },
  {
   "cell_type": "code",
   "execution_count": null,
   "metadata": {},
   "outputs": [],
   "source": [
    "#Are the products with zero stars equal to the products with zero reviews? NO\n",
    "helpful_stars_df.equals(helpful_reviews_df)"
   ]
  },
  {
   "cell_type": "code",
   "execution_count": null,
   "metadata": {},
   "outputs": [],
   "source": [
    "#investigate the love central tendencies for the helpful reviews (greater than 0 reviews) df\n",
    "print(\"The measures of central tendency for helpful_reviews_df:\")\n",
    "print(helpful_reviews_df[\"love\"].nunique())\n",
    "print(helpful_reviews_df[\"love\"].min())\n",
    "print(helpful_reviews_df[\"love\"].max())\n",
    "print(helpful_reviews_df[\"love\"].mean())\n",
    "print(helpful_reviews_df[\"love\"].median())\n",
    "helpful_reviews_df[\"love\"].value_counts(bins = 4)"
   ]
  },
  {
   "cell_type": "code",
   "execution_count": null,
   "metadata": {},
   "outputs": [],
   "source": [
    "#investigate the same for the whole df\n",
    "print(df[\"love\"].nunique())\n",
    "print(df[\"love\"].min())\n",
    "print(df[\"love\"].max())\n",
    "print(df[\"love\"].mean())\n",
    "print(df[\"love\"].median())\n",
    "df[\"love\"].value_counts(bins = 4)"
   ]
  },
  {
   "cell_type": "code",
   "execution_count": null,
   "metadata": {},
   "outputs": [],
   "source": [
    "#which product has the most \"loves\"\n",
    "df.loc[df[\"love\"] ==1300000]"
   ]
  },
  {
   "cell_type": "code",
   "execution_count": null,
   "metadata": {},
   "outputs": [],
   "source": [
    "helpful_loves=df.loc[df[\"love\"]<650000]\n",
    "helpful_loves"
   ]
  },
  {
   "cell_type": "code",
   "execution_count": null,
   "metadata": {},
   "outputs": [],
   "source": [
    "most_loves_outliers=df.loc[df[\"love\"]>650000]\n",
    "most_loves_outliers"
   ]
  },
  {
   "cell_type": "code",
   "execution_count": null,
   "metadata": {},
   "outputs": [],
   "source": [
    "#how many products have zero \"loves\" -- 181\n",
    "df.groupby(df[\"love\"] == 0)[\"id\"].count()\n"
   ]
  },
  {
   "cell_type": "code",
   "execution_count": null,
   "metadata": {},
   "outputs": [],
   "source": [
    "#Are there any trends in brands?\n",
    "zero_love_df=df.loc[df[\"love\"] == 0]\n",
    "zero_love_df.groupby(\"brand\")[\"brand\"].count().sort_values(ascending=False)\n"
   ]
  },
  {
   "cell_type": "code",
   "execution_count": null,
   "metadata": {},
   "outputs": [],
   "source": [
    "#proportion of brand offerings with zero love = There are no brands that had the majority of their offerings have zero loves\n",
    "proportions=(zero_love_df.groupby(\"brand\")[\"brand\"].count().sort_values(ascending=False)/(df.groupby(\"brand\")[\"brand\"].count().sort_values(ascending=False))*100)\n",
    "proportions=proportions.dropna().sort_values(ascending=False)\n",
    "proportions"
   ]
  },
  {
   "cell_type": "code",
   "execution_count": null,
   "metadata": {},
   "outputs": [],
   "source": [
    "#examine the price colum\n",
    "print(df[\"price\"].nunique())\n",
    "df[\"price\"].describe()\n"
   ]
  },
  {
   "cell_type": "code",
   "execution_count": null,
   "metadata": {},
   "outputs": [],
   "source": [
    "#examine the difference between price and value price\n",
    "print(df[\"value_price\"].nunique())\n",
    "df[\"value_price\"].describe()"
   ]
  },
  {
   "cell_type": "code",
   "execution_count": null,
   "metadata": {},
   "outputs": [],
   "source": [
    "#examine the options column\n",
    "df[\"options\"].nunique()\n",
    "df[\"options\"].value_counts()"
   ]
  },
  {
   "cell_type": "code",
   "execution_count": null,
   "metadata": {},
   "outputs": [],
   "source": [
    "#examine the details column\n",
    "print(df[\"details\"].nunique())\n"
   ]
  },
  {
   "cell_type": "code",
   "execution_count": null,
   "metadata": {},
   "outputs": [],
   "source": [
    "#examine the online only column 1 = True\n",
    "print(df[\"online_only\"].unique())\n",
    "print(df[\"online_only\"].nunique())\n",
    "df[\"online_only\"].value_counts()"
   ]
  },
  {
   "cell_type": "code",
   "execution_count": null,
   "metadata": {},
   "outputs": [],
   "source": [
    "#Examine the exclusive column 1 == exclusive to Sephora\n",
    "print(df[\"exclusive\"].unique())\n",
    "print(df[\"exclusive\"].nunique())\n",
    "df[\"exclusive\"].value_counts()"
   ]
  },
  {
   "cell_type": "code",
   "execution_count": null,
   "metadata": {},
   "outputs": [],
   "source": [
    "#see how many products are limited edition\n",
    "print(df[\"limited_edition\"].unique())\n",
    "print(df[\"limited_edition\"].nunique())\n",
    "df[\"limited_edition\"].value_counts()"
   ]
  },
  {
   "cell_type": "code",
   "execution_count": null,
   "metadata": {},
   "outputs": [],
   "source": [
    "#Which columns offer a mix of exclusivity/limited or online only distribution\n",
    "df[\"MarketingFlags\"].value_counts()"
   ]
  },
  {
   "cell_type": "code",
   "execution_count": null,
   "metadata": {},
   "outputs": [],
   "source": [
    "#examine the mfcontent column and frequencies\n",
    "print(df[\"MarketingFlags_content\"].unique())\n",
    "print(df[\"MarketingFlags_content\"].nunique())\n",
    "df[\"MarketingFlags_content\"].value_counts()"
   ]
  },
  {
   "cell_type": "code",
   "execution_count": null,
   "metadata": {},
   "outputs": [],
   "source": [
    "#visualize the relationship between ratings and loves\n",
    "plt.scatter(df.rating, df.love)\n",
    "plt.xlabel('Rating')\n",
    "plt.ylabel('Loves')\n",
    "plt.show()"
   ]
  },
  {
   "cell_type": "code",
   "execution_count": null,
   "metadata": {},
   "outputs": [],
   "source": [
    "#visualize the relationship between ratings and number of reviews\n",
    "plt.scatter(df.rating, df.number_of_reviews)\n",
    "plt.xlabel('Rating')\n",
    "plt.ylabel('Number of Reviews')\n",
    "plt.show()"
   ]
  },
  {
   "cell_type": "code",
   "execution_count": null,
   "metadata": {},
   "outputs": [],
   "source": [
    "plt.bar(df.online_only, df.number_of_reviews)\n",
    "plt.xlabel('Online Only')\n",
    "plt.ylabel('Number of Reviews')\n",
    "plt.show()"
   ]
  },
  {
   "cell_type": "code",
   "execution_count": null,
   "metadata": {},
   "outputs": [],
   "source": [
    "df.to_csv(\"beauty_habits_clean.csv\")"
   ]
  },
  {
   "cell_type": "code",
   "execution_count": null,
   "metadata": {},
   "outputs": [],
   "source": []
  }
 ],
 "metadata": {
  "kernelspec": {
   "display_name": "PythonData",
   "language": "python",
   "name": "pythondata"
  },
  "language_info": {
   "codemirror_mode": {
    "name": "ipython",
    "version": 3
   },
   "file_extension": ".py",
   "mimetype": "text/x-python",
   "name": "python",
   "nbconvert_exporter": "python",
   "pygments_lexer": "ipython3",
   "version": "3.8.3"
  }
 },
 "nbformat": 4,
 "nbformat_minor": 4
}
